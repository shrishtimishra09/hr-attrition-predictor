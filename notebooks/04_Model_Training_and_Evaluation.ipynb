{
 "cells": [
  {
   "cell_type": "code",
   "execution_count": 31,
   "id": "bc2eb329-cd6c-4d12-b032-f60416b0b270",
   "metadata": {},
   "outputs": [
    {
     "name": "stdout",
     "output_type": "stream",
     "text": [
      "✅ Logistic Regression CV Accuracy: 0.8843671114316625\n"
     ]
    }
   ],
   "source": [
    "from sklearn.pipeline import Pipeline\n",
    "from sklearn.preprocessing import StandardScaler\n",
    "from sklearn.linear_model import LogisticRegression\n",
    "from sklearn.model_selection import cross_val_score\n",
    "\n",
    "# Create a pipeline: scaler + logistic regression\n",
    "pipe = Pipeline([\n",
    "    ('scaler', StandardScaler()),\n",
    "    ('lr', LogisticRegression(max_iter=1000))\n",
    "])\n",
    "\n",
    "# Cross-validation\n",
    "lr_scores = cross_val_score(pipe, X_train, y_train, cv=5)\n",
    "\n",
    "print(\"✅ Logistic Regression CV Accuracy:\", lr_scores.mean())\n"
   ]
  },
  {
   "cell_type": "code",
   "execution_count": 32,
   "id": "ce3adc65-07b1-4305-b02e-d92269d84e72",
   "metadata": {},
   "outputs": [
    {
     "name": "stdout",
     "output_type": "stream",
     "text": [
      "              precision    recall  f1-score   support\n",
      "\n",
      "           0       0.88      0.96      0.92       247\n",
      "           1       0.62      0.34      0.44        47\n",
      "\n",
      "    accuracy                           0.86       294\n",
      "   macro avg       0.75      0.65      0.68       294\n",
      "weighted avg       0.84      0.86      0.84       294\n",
      "\n"
     ]
    },
    {
     "data": {
      "text/plain": [
       "['../models/scaler.pkl']"
      ]
     },
     "execution_count": 32,
     "metadata": {},
     "output_type": "execute_result"
    }
   ],
   "source": [
    "# Scale data\n",
    "from sklearn.preprocessing import StandardScaler\n",
    "\n",
    "scaler = StandardScaler()\n",
    "X_train_scaled = scaler.fit_transform(X_train)\n",
    "X_test_scaled = scaler.transform(X_test)\n",
    "\n",
    "# Train Logistic Regression\n",
    "lr_model = LogisticRegression(max_iter=1000)\n",
    "lr_model.fit(X_train_scaled, y_train)\n",
    "\n",
    "# Predict\n",
    "y_pred_lr = lr_model.predict(X_test_scaled)\n",
    "\n",
    "# Evaluate\n",
    "from sklearn.metrics import classification_report\n",
    "print(classification_report(y_test, y_pred_lr))\n",
    "\n",
    "# Save model & scaler\n",
    "joblib.dump(lr_model, '../models/logistic_model.pkl')\n",
    "joblib.dump(scaler, '../models/scaler.pkl')"
   ]
  },
  {
   "cell_type": "code",
   "execution_count": 33,
   "id": "d4401c24-cdfa-4f18-9c91-c6d9713aea7b",
   "metadata": {},
   "outputs": [
    {
     "name": "stdout",
     "output_type": "stream",
     "text": [
      "🔹 Decision Tree Results\n",
      "Accuracy: 0.8333333333333334\n",
      "\n",
      "Confusion Matrix:\n",
      " [[237  10]\n",
      " [ 39   8]]\n",
      "\n",
      "Classification Report:\n",
      "               precision    recall  f1-score   support\n",
      "\n",
      "           0       0.86      0.96      0.91       247\n",
      "           1       0.44      0.17      0.25        47\n",
      "\n",
      "    accuracy                           0.83       294\n",
      "   macro avg       0.65      0.56      0.58       294\n",
      "weighted avg       0.79      0.83      0.80       294\n",
      "\n"
     ]
    },
    {
     "data": {
      "text/plain": [
       "['../models/decision_tree_model.pkl']"
      ]
     },
     "execution_count": 33,
     "metadata": {},
     "output_type": "execute_result"
    }
   ],
   "source": [
    "# Initialize and train\n",
    "dt_model = DecisionTreeClassifier(max_depth=5, random_state=42)\n",
    "dt_model.fit(X_train, y_train)\n",
    "\n",
    "# Predict and evaluate\n",
    "y_pred_dt = dt_model.predict(X_test)\n",
    "\n",
    "print(\"🔹 Decision Tree Results\")\n",
    "print(\"Accuracy:\", accuracy_score(y_test, y_pred_dt))\n",
    "print(\"\\nConfusion Matrix:\\n\", confusion_matrix(y_test, y_pred_dt))\n",
    "print(\"\\nClassification Report:\\n\", classification_report(y_test, y_pred_dt))\n",
    "\n",
    "# Save the model\n",
    "joblib.dump(dt_model, '../models/decision_tree_model.pkl')\n"
   ]
  },
  {
   "cell_type": "code",
   "execution_count": 36,
   "id": "ca5df974-b1a6-4372-8e5f-81f6ef5ad4f9",
   "metadata": {},
   "outputs": [
    {
     "name": "stderr",
     "output_type": "stream",
     "text": [
      "C:\\Users\\Asus\\AppData\\Local\\Programs\\Python\\Python313\\Lib\\site-packages\\sklearn\\linear_model\\_logistic.py:469: ConvergenceWarning: lbfgs failed to converge (status=1):\n",
      "STOP: TOTAL NO. of ITERATIONS REACHED LIMIT.\n",
      "\n",
      "Increase the number of iterations (max_iter) or scale the data as shown in:\n",
      "    https://scikit-learn.org/stable/modules/preprocessing.html\n",
      "Please also refer to the documentation for alternative solver options:\n",
      "    https://scikit-learn.org/stable/modules/linear_model.html#logistic-regression\n",
      "  n_iter_i = _check_optimize_result(\n"
     ]
    },
    {
     "data": {
      "text/plain": [
       "['model_columns.pkl']"
      ]
     },
     "execution_count": 36,
     "metadata": {},
     "output_type": "execute_result"
    }
   ],
   "source": [
    "import pandas as pd\n",
    "from sklearn.linear_model import LogisticRegression\n",
    "import joblib\n",
    "\n",
    "# Step 1: Load your dataset\n",
    "df = pd.read_csv('../data/WA_Fn-UseC_-HR-Employee-Attrition.csv')\n",
    "# Step 2: Separate features and target\n",
    "y = df['Attrition']\n",
    "X = df.drop('Attrition', axis=1)\n",
    "\n",
    "# Step 3: One-hot encode categorical columns\n",
    "X = pd.get_dummies(X)\n",
    "\n",
    "# Step 4: Train the model\n",
    "model = LogisticRegression(max_iter=7000)\n",
    "model.fit(X, y)\n",
    "\n",
    "# Step 5: Save the model and the feature columns\n",
    "joblib.dump(model, 'decision_tree_model.pkl')           # Save the trained model\n",
    "joblib.dump(X.columns.tolist(), 'model_columns.pkl')    # Save feature names used during training"
   ]
  },
  {
   "cell_type": "code",
   "execution_count": 37,
   "id": "e29a6409-af64-4c28-a976-2e3441992e4e",
   "metadata": {},
   "outputs": [],
   "source": [
    "import pandas as pd\n",
    "from sklearn.linear_model import LogisticRegression\n",
    "from sklearn.tree import DecisionTreeClassifier\n",
    "from sklearn.metrics import accuracy_score, confusion_matrix, classification_report\n",
    "from sklearn.model_selection import cross_val_score\n",
    "import joblib\n",
    "\n",
    "# Load processed data\n",
    "X_train = pd.read_csv('../data/X_train.csv')\n",
    "X_test = pd.read_csv('../data/X_test.csv')\n",
    "y_train = pd.read_csv('../data/y_train.csv').values.ravel()\n",
    "y_test = pd.read_csv('../data/y_test.csv').values.ravel()\n"
   ]
  },
  {
   "cell_type": "code",
   "execution_count": null,
   "id": "d30542f9-d1b8-41bf-8cc1-7099da80387e",
   "metadata": {},
   "outputs": [],
   "source": []
  }
 ],
 "metadata": {
  "kernelspec": {
   "display_name": "Python 3 (ipykernel)",
   "language": "python",
   "name": "python3"
  },
  "language_info": {
   "codemirror_mode": {
    "name": "ipython",
    "version": 3
   },
   "file_extension": ".py",
   "mimetype": "text/x-python",
   "name": "python",
   "nbconvert_exporter": "python",
   "pygments_lexer": "ipython3",
   "version": "3.13.0"
  }
 },
 "nbformat": 4,
 "nbformat_minor": 5
}
