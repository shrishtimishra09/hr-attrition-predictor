{
 "cells": [
  {
   "cell_type": "code",
   "execution_count": 12,
   "id": "0d5c184a-34ba-471a-938a-66e37da3fb8f",
   "metadata": {},
   "outputs": [],
   "source": [
    "import pandas as pd\n",
    "from sklearn.linear_model import LogisticRegression\n",
    "from sklearn.tree import DecisionTreeClassifier\n",
    "from sklearn.metrics import accuracy_score, confusion_matrix, classification_report\n",
    "from sklearn.model_selection import cross_val_score\n",
    "import joblib\n",
    "\n",
    "# Load processed data\n",
    "X_train = pd.read_csv('../data/X_train.csv')\n",
    "X_test = pd.read_csv('../data/X_test.csv')\n",
    "y_train = pd.read_csv('../data/y_train.csv').values.ravel()\n",
    "y_test = pd.read_csv('../data/y_test.csv').values.ravel()\n"
   ]
  },
  {
   "cell_type": "code",
   "execution_count": 16,
   "id": "221bcaac-3921-4f1b-8431-9a2698b0c865",
   "metadata": {},
   "outputs": [
    {
     "name": "stdout",
     "output_type": "stream",
     "text": [
      "              precision    recall  f1-score   support\n",
      "\n",
      "           0       0.88      0.96      0.92       247\n",
      "           1       0.62      0.34      0.44        47\n",
      "\n",
      "    accuracy                           0.86       294\n",
      "   macro avg       0.75      0.65      0.68       294\n",
      "weighted avg       0.84      0.86      0.84       294\n",
      "\n"
     ]
    },
    {
     "data": {
      "text/plain": [
       "['../models/scaler.pkl']"
      ]
     },
     "execution_count": 16,
     "metadata": {},
     "output_type": "execute_result"
    }
   ],
   "source": [
    "# Scale data\n",
    "from sklearn.preprocessing import StandardScaler\n",
    "\n",
    "scaler = StandardScaler()\n",
    "X_train_scaled = scaler.fit_transform(X_train)\n",
    "X_test_scaled = scaler.transform(X_test)\n",
    "\n",
    "# Train Logistic Regression\n",
    "lr_model = LogisticRegression(max_iter=1000)\n",
    "lr_model.fit(X_train_scaled, y_train)\n",
    "\n",
    "# Predict\n",
    "y_pred_lr = lr_model.predict(X_test_scaled)\n",
    "\n",
    "# Evaluate\n",
    "from sklearn.metrics import classification_report\n",
    "print(classification_report(y_test, y_pred_lr))\n",
    "\n",
    "# Save model & scaler\n",
    "joblib.dump(lr_model, '../models/logistic_model.pkl')\n",
    "joblib.dump(scaler, '../models/scaler.pkl')\n"
   ]
  },
  {
   "cell_type": "code",
   "execution_count": 17,
   "id": "b481f1fb-e684-48b1-9b51-d7c346d1f9e5",
   "metadata": {},
   "outputs": [
    {
     "name": "stdout",
     "output_type": "stream",
     "text": [
      "🔹 Decision Tree Results\n",
      "Accuracy: 0.8333333333333334\n",
      "\n",
      "Confusion Matrix:\n",
      " [[237  10]\n",
      " [ 39   8]]\n",
      "\n",
      "Classification Report:\n",
      "               precision    recall  f1-score   support\n",
      "\n",
      "           0       0.86      0.96      0.91       247\n",
      "           1       0.44      0.17      0.25        47\n",
      "\n",
      "    accuracy                           0.83       294\n",
      "   macro avg       0.65      0.56      0.58       294\n",
      "weighted avg       0.79      0.83      0.80       294\n",
      "\n"
     ]
    },
    {
     "data": {
      "text/plain": [
       "['../models/decision_tree_model.pkl']"
      ]
     },
     "execution_count": 17,
     "metadata": {},
     "output_type": "execute_result"
    }
   ],
   "source": [
    "# Initialize and train\n",
    "dt_model = DecisionTreeClassifier(max_depth=5, random_state=42)\n",
    "dt_model.fit(X_train, y_train)\n",
    "\n",
    "# Predict and evaluate\n",
    "y_pred_dt = dt_model.predict(X_test)\n",
    "\n",
    "print(\"🔹 Decision Tree Results\")\n",
    "print(\"Accuracy:\", accuracy_score(y_test, y_pred_dt))\n",
    "print(\"\\nConfusion Matrix:\\n\", confusion_matrix(y_test, y_pred_dt))\n",
    "print(\"\\nClassification Report:\\n\", classification_report(y_test, y_pred_dt))\n",
    "\n",
    "# Save the model\n",
    "joblib.dump(dt_model, '../models/decision_tree_model.pkl')\n"
   ]
  },
  {
   "cell_type": "code",
   "execution_count": 19,
   "id": "39be0fd4-1f99-44d0-ab79-3fd3822550af",
   "metadata": {},
   "outputs": [
    {
     "name": "stdout",
     "output_type": "stream",
     "text": [
      "✅ Logistic Regression CV Accuracy: 0.8843671114316625\n"
     ]
    }
   ],
   "source": [
    "from sklearn.pipeline import Pipeline\n",
    "from sklearn.preprocessing import StandardScaler\n",
    "from sklearn.linear_model import LogisticRegression\n",
    "from sklearn.model_selection import cross_val_score\n",
    "\n",
    "# Create a pipeline: scaler + logistic regression\n",
    "pipe = Pipeline([\n",
    "    ('scaler', StandardScaler()),\n",
    "    ('lr', LogisticRegression(max_iter=1000))\n",
    "])\n",
    "\n",
    "# Cross-validation\n",
    "lr_scores = cross_val_score(pipe, X_train, y_train, cv=5)\n",
    "\n",
    "print(\"✅ Logistic Regression CV Accuracy:\", lr_scores.mean())\n"
   ]
  },
  {
   "cell_type": "code",
   "execution_count": null,
   "id": "92dc167b-0851-4ca4-8a58-deeb87b7ab77",
   "metadata": {},
   "outputs": [],
   "source": [
    "import pandas as pd\n",
    "from sklearn.linear_model import LogisticRegression\n",
    "import joblib\n",
    "\n",
    "# Step 1: Load your dataset\n",
    "df = pd.read_csv('../data/HR-Employee-Attrition.csv')\n",
    "# Step 2: Separate features and target\n",
    "y = df['Attrition']\n",
    "X = df.drop('Attrition', axis=1)\n",
    "\n",
    "# Step 3: One-hot encode categorical columns\n",
    "X = pd.get_dummies(X)\n",
    "\n",
    "# Step 4: Train the model\n",
    "model = LogisticRegression(max_iter=1000)\n",
    "model.fit(X, y)\n",
    "\n",
    "# Step 5: Save the model and the feature columns\n",
    "joblib.dump(model, 'decision_tree_model.pkl')           # Save the trained model\n",
    "joblib.dump(X.columns.tolist(), 'model_columns.pkl')    # Save feature names used during training\n"
   ]
  },
  {
   "cell_type": "code",
   "execution_count": null,
   "id": "bc2eb329-cd6c-4d12-b032-f60416b0b270",
   "metadata": {},
   "outputs": [],
   "source": []
  }
 ],
 "metadata": {
  "kernelspec": {
   "display_name": "Python 3 (ipykernel)",
   "language": "python",
   "name": "python3"
  },
  "language_info": {
   "codemirror_mode": {
    "name": "ipython",
    "version": 3
   },
   "file_extension": ".py",
   "mimetype": "text/x-python",
   "name": "python",
   "nbconvert_exporter": "python",
   "pygments_lexer": "ipython3",
   "version": "3.13.0"
  }
 },
 "nbformat": 4,
 "nbformat_minor": 5
}
