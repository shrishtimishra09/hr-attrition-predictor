{
 "cells": [
  {
   "cell_type": "code",
   "execution_count": null,
   "id": "437c589b-e701-4f37-b8b0-ea052a3a0221",
   "metadata": {},
   "outputs": [],
   "source": []
  }
 ],
 "metadata": {
  "kernelspec": {
   "display_name": "",
   "name": ""
  },
  "language_info": {
   "name": ""
  }
 },
 "nbformat": 4,
 "nbformat_minor": 5
}
